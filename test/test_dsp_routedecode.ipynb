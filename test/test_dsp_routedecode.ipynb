{
 "cells": [
  {
   "cell_type": "code",
   "execution_count": 1,
   "metadata": {},
   "outputs": [],
   "source": [
    "from mylib.dsp.route_decode import decode_routes\n",
    "import pickle\n",
    "\n",
    "if __name__ == '__main__':\n",
    "    with open(r\"E:\\Data\\Dsp_maze\\10224\\20231014\\trace.pkl\", 'rb') as handle:\n",
    "        trace = pickle.load(handle)\n",
    "    \n",
    "    y_pred, y_test, x_test = decode_routes(trace, n_cross_times=12)\n",
    "    print(y_pred)\n",
    "    print(y_test)\n",
    "    \n",
    "    with open(r\"E:\\Data\\Dsp_maze\\10224\\20231014\\demo_decode_results.pkl\", 'wb') as handle:\n",
    "        pickle.dump([y_pred, y_test, x_test], handle)\n"
   ]
  },
  {
   "cell_type": "code",
   "execution_count": 2,
   "metadata": {},
   "outputs": [],
   "source": [
    "from mylib.maze_utils3 import spike_nodes_transform\n",
    "from mylib.maze_graph import CorrectPath_maze_1 as CP\n",
    "\n",
    "x_test_converted = spike_nodes_transform(spike_nodes = x_test, nx = 12)"
   ]
  },
  {
   "cell_type": "code",
   "execution_count": 6,
   "metadata": {},
   "outputs": [
    {
     "data": {
      "text/plain": [
       "(array([ 147.,  195.,  196., ..., 2109., 2110., 2159.]),\n",
       " array([  1,  13,  13, ..., 132, 132, 144], dtype=int64),\n",
       " array([0, 0, 0, ..., 0, 0, 0], dtype=int64),\n",
       " (22660,))"
      ]
     },
     "execution_count": 6,
     "metadata": {},
     "output_type": "execute_result"
    }
   ],
   "source": [
    "x_test, x_test_converted, y_pred, y_test.shape"
   ]
  },
  {
   "cell_type": "code",
   "execution_count": 4,
   "metadata": {},
   "outputs": [],
   "source": [
    "import numpy as np\n",
    "import matplotlib.pyplot as plt\n",
    "\n",
    "def compute_accuracy(y_pred, y_test, x_test, CP):\n",
    "    accuracy = np.zeros_like(CP)\n",
    "    \n",
    "    for i in range(len(CP)):\n",
    "        n_all = np.where(x_test == CP[i])[0].shape[0]\n",
    "        n_correct = np.where((y_pred == y_test) & (x_test == CP[i]))[0].shape[0]\n",
    "        accuracy[i] = n_correct / n_all\n",
    "        \n",
    "    return accuracy\n",
    "\n",
    "accuracy = compute_accuracy(y_pred, y_test, x_test_converted, CP)"
   ]
  },
  {
   "cell_type": "code",
   "execution_count": 5,
   "metadata": {},
   "outputs": [
    {
     "data": {
      "text/plain": [
       "[<matplotlib.lines.Line2D at 0x20f485daa40>]"
      ]
     },
     "execution_count": 5,
     "metadata": {},
     "output_type": "execute_result"
    },
    {
     "data": {
      "image/png": "[encoded data removed]",
      "text/plain": [
       "<Figure size 640x480 with 1 Axes>"
      ]
     },
     "metadata": {},
     "output_type": "display_data"
    }
   ],
   "source": [
    "plt.plot(accuracy)"
   ]
  }
 ],
 "metadata": {
  "kernelspec": {
   "display_name": "maze",
   "language": "python",
   "name": "python3"
  },
  "language_info": {
   "codemirror_mode": {
    "name": "ipython",
    "version": 3
   },
   "file_extension": ".py",
   "mimetype": "text/x-python",
   "name": "python",
   "nbconvert_exporter": "python",
   "pygments_lexer": "ipython3",
   "version": "3.10.11"
  }
 },
 "nbformat": 4,
 "nbformat_minor": 2
}
